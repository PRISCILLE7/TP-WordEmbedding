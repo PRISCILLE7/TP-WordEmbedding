{
 "cells": [
  {
   "cell_type": "markdown",
   "id": "174aed2d",
   "metadata": {},
   "source": [
    "TP - word embedding "
   ]
  },
  {
   "cell_type": "markdown",
   "id": "f212b8f8",
   "metadata": {},
   "source": [
    "# Partie I - Utiliser un modèle existant"
   ]
  },
  {
   "cell_type": "markdown",
   "id": "4bbfeb71",
   "metadata": {},
   "source": [
    "I. Utiliser un modèle Word2Vec pré-entraîné"
   ]
  },
  {
   "cell_type": "markdown",
   "id": "2e9ca4d5",
   "metadata": {},
   "source": [
    "a) Télécharger le modèle word2vec-google-news-300"
   ]
  },
  {
   "cell_type": "code",
   "execution_count": null,
   "id": "322a6d5f",
   "metadata": {},
   "outputs": [
    {
     "name": "stdout",
     "output_type": "stream",
     "text": [
      "[==============================--------------------] 60.3% 1001.8/1662.8MB downloaded"
     ]
    }
   ],
   "source": [
    "import gensim.downloader as api\n",
    "\n",
    "model = api.load('word2vec-google-news-300')\n",
    "print(\"Modèle chargé avec succès.\")\n"
   ]
  },
  {
   "cell_type": "markdown",
   "id": "35a490a9",
   "metadata": {},
   "source": [
    "b) Vérifier si ton prénom est dans le vocabulaire"
   ]
  },
  {
   "cell_type": "code",
   "execution_count": null,
   "id": "0455cf29",
   "metadata": {},
   "outputs": [],
   "source": [
    "prenom = \"priscille\"\n",
    "print(prenom in model.key_to_index) \n"
   ]
  },
  {
   "cell_type": "markdown",
   "id": "7aba1c57",
   "metadata": {},
   "source": [
    "c) Trouver le mot le plus similaire à ton prénom"
   ]
  },
  {
   "cell_type": "code",
   "execution_count": null,
   "id": "2349aff4",
   "metadata": {},
   "outputs": [],
   "source": [
    "if prenom in model.key_to_index:\n",
    "    similar = model.most_similar(prenom, topn=1)\n",
    "    print(f\"Mot le plus similaire à {prenom} : {similar}\")\n",
    "else:\n",
    "    print(f\"{prenom} n'existe pas dans le vocabulaire.\")\n"
   ]
  },
  {
   "cell_type": "markdown",
   "id": "88641ae9",
   "metadata": {},
   "source": [
    "d) Vérifier la similarité entre \"computer\" et \"software\""
   ]
  },
  {
   "cell_type": "code",
   "execution_count": null,
   "id": "f0caf9ec",
   "metadata": {},
   "outputs": [],
   "source": [
    "similarite = model.similarity(\"computer\", \"software\")\n",
    "print(f\"Similarité entre 'computer' et 'software' : {similarite:.4f}\")\n"
   ]
  },
  {
   "cell_type": "markdown",
   "id": "e222349f",
   "metadata": {},
   "source": [
    "e) Trouver les 5 mots les plus similaires à \"computer\""
   ]
  },
  {
   "cell_type": "code",
   "execution_count": null,
   "id": "f170ccdd",
   "metadata": {},
   "outputs": [],
   "source": [
    "similar_words = model.most_similar(\"computer\", topn=5)\n",
    "print(\"5 mots les plus similaires à 'computer' :\")\n",
    "for word, score in similar_words:\n",
    "    print(f\"{word}: {score:.4f}\")\n"
   ]
  },
  {
   "cell_type": "markdown",
   "id": "b5c5ce90",
   "metadata": {},
   "source": [
    "f) Trouver l'intrus parmi [\"computer\", \"software\", \"intelligence\", \"engineering\"]"
   ]
  },
  {
   "cell_type": "code",
   "execution_count": null,
   "id": "3cd258bb",
   "metadata": {},
   "outputs": [],
   "source": [
    "intrus = model.doesnt_match([\"computer\", \"software\", \"intelligence\", \"engineering\"])\n",
    "print(f\"Intrus dans la liste : {intrus}\")\n"
   ]
  },
  {
   "cell_type": "markdown",
   "id": "aa3802fe",
   "metadata": {},
   "source": [
    "g) Opérations sémantiques"
   ]
  },
  {
   "cell_type": "code",
   "execution_count": null,
   "id": "a3b78625",
   "metadata": {},
   "outputs": [],
   "source": [
    "# 1. Monnaie indienne\n",
    "print(model.most_similar(positive=['india', 'currency'], topn=1))\n",
    "\n",
    "# 2. Participe passé de \"buy\"\n",
    "print(model.most_similar(positive=['buy'], topn=1))\n",
    "\n",
    "# 3. Capitale du Chili\n",
    "print(model.most_similar(positive=['chile', 'capital'], topn=1))\n",
    "\n",
    "# 4. Nom de famille du président chinois\n",
    "print(model.most_similar(positive=['china', 'president'], topn=1))\n",
    "\n",
    "# 5. Femelle du cheval\n",
    "print(model.most_similar(positive=['horse', 'female'], negative=['male'], topn=1))\n"
   ]
  },
  {
   "cell_type": "markdown",
   "id": "096b4533",
   "metadata": {},
   "source": [
    " # II. Entraîner ton propre modèle Word2Vec"
   ]
  },
  {
   "cell_type": "markdown",
   "id": "665666af",
   "metadata": {},
   "source": [
    " a) Télécharger la page Wikipédia « Computer Science »"
   ]
  },
  {
   "cell_type": "code",
   "execution_count": null,
   "id": "0e3dde0f",
   "metadata": {},
   "outputs": [],
   "source": [
    "import requests\n",
    "\n",
    "url = \"https://en.wikipedia.org/wiki/Computer\"\n",
    "response = requests.get(url)\n",
    "\n",
    "wiki_html = response.text\n",
    "print(\"Page Wikipédia téléchargée.\")\n"
   ]
  },
  {
   "cell_type": "markdown",
   "id": "2ce11a81",
   "metadata": {},
   "source": [
    " b) Parser avec BeautifulSoup"
   ]
  },
  {
   "cell_type": "code",
   "execution_count": null,
   "id": "0dc5dc2a",
   "metadata": {},
   "outputs": [],
   "source": [
    "from bs4 import BeautifulSoup\n",
    "\n",
    "# Parser\n",
    "soup = BeautifulSoup(wiki_html, 'lxml')\n",
    "print(\"Page Wikipédia parsée avec succès.\")\n"
   ]
  },
  {
   "cell_type": "markdown",
   "id": "6d1169d5",
   "metadata": {},
   "source": [
    "c) Extraire tous les paragraphes (<p>)"
   ]
  },
  {
   "cell_type": "code",
   "execution_count": null,
   "id": "cda2ad73",
   "metadata": {},
   "outputs": [],
   "source": [
    "paragraphes = soup.find_all('p')\n",
    "\n",
    "texte_wikipedia = \" \".join([p.get_text() for p in paragraphes])\n",
    "\n",
    "print(\"Texte brut extrait.\")\n",
    "print(texte_wikipedia[:500])  # Afficher un extrait pour vérifier\n"
   ]
  },
  {
   "cell_type": "markdown",
   "id": "651f07f0",
   "metadata": {},
   "source": [
    "d) Comparer le texte"
   ]
  },
  {
   "cell_type": "markdown",
   "id": "753b1de5",
   "metadata": {},
   "source": [
    "e) Segmenter en phrases puis en mots"
   ]
  },
  {
   "cell_type": "code",
   "execution_count": null,
   "id": "eb9f10e1",
   "metadata": {},
   "outputs": [],
   "source": [
    "import nltk\n",
    "nltk.download('punkt')\n",
    "\n",
    "\n",
    "phrases = nltk.sent_tokenize(texte_wikipedia)\n",
    "\n",
    "mots_tokenises = [nltk.word_tokenize(phrase.lower()) for phrase in phrases]\n",
    "print(\"Texte segmenté en phrases et mots.\")"
   ]
  },
  {
   "cell_type": "markdown",
   "id": "fefaaccb",
   "metadata": {},
   "source": [
    "f) Enlever les mots non porteurs de sens (stopwords)"
   ]
  },
  {
   "cell_type": "code",
   "execution_count": null,
   "id": "397e97c3",
   "metadata": {},
   "outputs": [],
   "source": [
    "nltk.download('stopwords')\n",
    "from nltk.corpus import stopwords\n",
    "\n",
    "stop_words = set(stopwords.words('english'))\n",
    "\n",
    "mots_nettoyes = []\n",
    "for phrase in mots_tokenises:\n",
    "    mots_filtres = [mot for mot in phrase if mot.isalpha() and mot not in stop_words]\n",
    "    mots_nettoyes.append(mots_filtres)\n",
    "\n",
    "print(\"Stopwords supprimés.\")\n"
   ]
  },
  {
   "cell_type": "markdown",
   "id": "82a25620",
   "metadata": {},
   "source": [
    "g) Entraîner ton modèle Word2Vec"
   ]
  },
  {
   "cell_type": "code",
   "execution_count": null,
   "id": "75b4feb1",
   "metadata": {},
   "outputs": [],
   "source": [
    "from gensim.models import Word2Vec\n",
    "\n",
    "model_wiki = Word2Vec(sentences=mots_nettoyes, vector_size=100, window=5, min_count=2, workers=4)\n",
    "print(\"Modèle Word2Vec entraîné sur la page Wikipedia.\")\n"
   ]
  },
  {
   "cell_type": "markdown",
   "id": "e4405f75",
   "metadata": {},
   "source": [
    "h) Tester ton modèle (Exemples demandés)\n",
    "\n",
    "5 mots les plus similaires à \"computer\""
   ]
  },
  {
   "cell_type": "code",
   "execution_count": null,
   "id": "5ff9fb75",
   "metadata": {},
   "outputs": [],
   "source": [
    "print(model_wiki.wv.most_similar(\"computer\", topn=5))"
   ]
  },
  {
   "cell_type": "markdown",
   "id": "eb9b61f4",
   "metadata": {},
   "source": [
    "Similarité entre \"computer\" et \"software\""
   ]
  },
  {
   "cell_type": "code",
   "execution_count": null,
   "id": "37197ec5",
   "metadata": {},
   "outputs": [],
   "source": [
    "similarite_custom = model_wiki.wv.similarity(\"computer\", \"software\")\n",
    "print(f\"Similarité 'computer' vs 'software' (modèle personnel) : {similarite_custom:.4f}\")\n"
   ]
  },
  {
   "cell_type": "markdown",
   "id": "e33cd51a",
   "metadata": {},
   "source": [
    "i) Comparaison avec modèle pré-entraîné :\n",
    "\n",
    "    Regarde la différence :\n",
    "\n",
    "        Le modèle pré-entraîné est plus général, car formé sur des milliards de mots.\n",
    "\n",
    "        Ton modèle personnalisé est plus spécifique au contexte \"computer\"."
   ]
  }
 ],
 "metadata": {
  "kernelspec": {
   "display_name": "tp_wordembedding",
   "language": "python",
   "name": "python3"
  },
  "language_info": {
   "codemirror_mode": {
    "name": "ipython",
    "version": 3
   },
   "file_extension": ".py",
   "mimetype": "text/x-python",
   "name": "python",
   "nbconvert_exporter": "python",
   "pygments_lexer": "ipython3",
   "version": "3.10.16"
  }
 },
 "nbformat": 4,
 "nbformat_minor": 5
}
